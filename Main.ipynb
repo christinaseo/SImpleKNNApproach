{
 "cells": [
  {
   "cell_type": "markdown",
   "metadata": {},
   "source": [
    "# Simple K Nearest Neighbor"
   ]
  },
  {
   "cell_type": "code",
   "execution_count": 36,
   "metadata": {
    "scrolled": true
   },
   "outputs": [],
   "source": [
    "import numpy as np\n",
    "import random\n",
    "import matplotlib.pyplot as plt\n",
    "## Initialize number of dimensions\n",
    "d=1\n",
    "##Initialize value of k\n",
    "k=3"
   ]
  },
  {
   "cell_type": "code",
   "execution_count": 44,
   "metadata": {},
   "outputs": [
    {
     "data": {
      "image/png": "[encoded data removed]",
      "text/plain": [
       "<Figure size 432x288 with 1 Axes>"
      ]
     },
     "metadata": {},
     "output_type": "display_data"
    }
   ],
   "source": [
    "## Generate the training set\n",
    "x = 10*np.random.rand(100,d)\n",
    "error = np.random.normal(0,1,100)\n",
    "y = 4 + np.sum(x,axis=1) + error\n",
    "plot = plt.scatter(x,y)"
   ]
  },
  {
   "cell_type": "code",
   "execution_count": 45,
   "metadata": {},
   "outputs": [],
   "source": [
    "##Generate some test data\n",
    "xtest = 10*np.random.rand(50,d)"
   ]
  },
  {
   "cell_type": "code",
   "execution_count": 46,
   "metadata": {},
   "outputs": [],
   "source": [
    "##Calculate the distance between every test point and every training point\n",
    "def distance (x, xtest):\n",
    "    ##Turn the sets into 3D matricies, so they can be broadcasted\n",
    "    n = x.shape[0]\n",
    "    m = xtest.shape[0]\n",
    "    newX = np.reshape(x,(n,d,1))\n",
    "    newXTest = np.reshape(xtest, (1,d,m))\n",
    "    difference = newX - newXTest\n",
    "    difference = difference**2\n",
    "    allDistances = difference.sum(axis=1)\n",
    "    allDistances = allDistances**(1/2)\n",
    "    return allDistances\n",
    "\n",
    "dist = distance(x,xtest)"
   ]
  },
  {
   "cell_type": "code",
   "execution_count": 57,
   "metadata": {},
   "outputs": [
    {
     "name": "stdout",
     "output_type": "stream",
     "text": [
      "(100, 50)\n",
      "[[25  0  2 47 45 44 43 42  8  9 10 11 12 41 39 37 16 35 33 32 28 21 26 23\n",
      "  24 13 49 27 20 29 30 31 48 18 34 17 36 22  3 46  6  1 38  4  5 40 19 15\n",
      "  14  7]\n",
      " [ 1 49 48  3  4  5  6  7 46 40 38 36 34 13 31 15 30 17 18 19 20 29 22 27\n",
      "  24 12  0  8 45 44  9 14 11 33 37 32 42 28 21 43 16 41 35 47 25 23 39 26\n",
      "   2 10]\n",
      " [ 8  0 45 44 11  9 24 31 49 48 46  3 12 13 43 42 16 17 18 41 20 21 22 37\n",
      "  36 34 33 27  6 32 30 28  4 29 25 35  1 23  5 47 40 15 19 38 39  7 26 10\n",
      "  14  2]]\n"
     ]
    },
    {
     "name": "stderr",
     "output_type": "stream",
     "text": [
      "/Library/Frameworks/Python.framework/Versions/3.6/lib/python3.6/site-packages/ipykernel_launcher.py:7: DeprecationWarning: elementwise == comparison failed; this will raise an error in the future.\n",
      "  import sys\n"
     ]
    }
   ],
   "source": [
    "##Find the K nearest neighbors for each test point\n",
    "print(np.shape(dist))\n",
    "xNearest = np.argpartition(dist,-k,axis = 1)[-k:]\n",
    "print(xNearest)\n",
    "\n",
    "##Find the corresponding values of y\n",
    "yNearest = y[x==xNearest]"
   ]
  },
  {
   "cell_type": "code",
   "execution_count": null,
   "metadata": {},
   "outputs": [],
   "source": []
  }
 ],
 "metadata": {
  "kernelspec": {
   "display_name": "Python 3",
   "language": "python",
   "name": "python3"
  },
  "language_info": {
   "codemirror_mode": {
    "name": "ipython",
    "version": 3
   },
   "file_extension": ".py",
   "mimetype": "text/x-python",
   "name": "python",
   "nbconvert_exporter": "python",
   "pygments_lexer": "ipython3",
   "version": "3.6.5"
  }
 },
 "nbformat": 4,
 "nbformat_minor": 2
}
